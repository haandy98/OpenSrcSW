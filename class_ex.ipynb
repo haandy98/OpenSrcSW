{
 "cells": [
  {
   "cell_type": "code",
   "execution_count": 1,
   "id": "7851d935",
   "metadata": {},
   "outputs": [],
   "source": [
    "# -*- coding: cp949 -*-\n",
    "\n",
    "class Calc:\n",
    "    def sum(self, a, b):\n",
    "        result = a + b\n",
    "        print(\"{:d} + {:d} = {:d}\".format(a,b,result))\n",
    "\n",
    "    def subtraction(self, a, b):\n",
    "        result = a - b\n",
    "        print(\"{:d} - {:d} = {:d}\".format(a,b,result))\n",
    "\n",
    "    def multipication(self, a, b):\n",
    "        result = a * b\n",
    "        print(\"{:d} * {:d} = {:d}\".format(a,b,result))\n",
    "\n",
    "    def division(self, a, b):\n",
    "        result = a / b\n",
    "        print(\"{:d} / {:d} = {:.0f}\".format(a,b,result))"
   ]
  },
  {
   "cell_type": "code",
   "execution_count": null,
   "id": "878d05de",
   "metadata": {},
   "outputs": [],
   "source": []
  }
 ],
 "metadata": {
  "kernelspec": {
   "display_name": "Python 3",
   "language": "python",
   "name": "python3"
  },
  "language_info": {
   "codemirror_mode": {
    "name": "ipython",
    "version": 3
   },
   "file_extension": ".py",
   "mimetype": "text/x-python",
   "name": "python",
   "nbconvert_exporter": "python",
   "pygments_lexer": "ipython3",
   "version": "3.8.1"
  }
 },
 "nbformat": 4,
 "nbformat_minor": 5
}
