{
 "cells": [
  {
   "cell_type": "code",
   "execution_count": 5,
   "id": "585b26b4",
   "metadata": {},
   "outputs": [
    {
     "name": "stdout",
     "output_type": "stream",
     "text": [
      "cp example.txt example2.txt\n"
     ]
    }
   ],
   "source": [
    "# 실습 #6\n",
    "import shutil\n",
    "\n",
    "userinput = input()\n",
    "file = userinput.split(' ')\n",
    "\n",
    "if file[0] == 'cp':\n",
    "    f = open(file[2], 'w')\n",
    "    shutil.copy(file[1], file[2])\n",
    "    f.close()"
   ]
  },
  {
   "cell_type": "code",
   "execution_count": 12,
   "id": "7ab83591",
   "metadata": {},
   "outputs": [
    {
     "name": "stdout",
     "output_type": "stream",
     "text": [
      "wc example.txt\n",
      "라인 수: 8\n",
      "단어 수: 69\n"
     ]
    }
   ],
   "source": [
    "# 실습 #7\n",
    "\n",
    "userinput = input()\n",
    "file = userinput.split(' ')\n",
    "count_line = 0\n",
    "count_word = 0\n",
    "\n",
    "if file[0] == 'wc':\n",
    "    f = open(file[1], 'r')\n",
    "    while True:\n",
    "        line = f.readline()\n",
    "        count_line += 1\n",
    "        count_word += len(line.split(' '))\n",
    "        if not line:\n",
    "            count_line -= 1\n",
    "            count_word -= 1\n",
    "            break\n",
    "    f.close()\n",
    "\n",
    "print(\"라인 수: {}\".format(count_line))\n",
    "print(\"단어 수: {}\".format(count_word))"
   ]
  },
  {
   "cell_type": "code",
   "execution_count": 1,
   "id": "d0cb7db4",
   "metadata": {
    "scrolled": true
   },
   "outputs": [
    {
     "name": "stdout",
     "output_type": "stream",
     "text": [
      "1 + 2 = 3\n",
      "5 - 1 = 4\n",
      "2 * 3 = 6\n",
      "6 / 2 = 3\n"
     ]
    }
   ],
   "source": [
    "#실습 #8\n",
    "\n",
    "import import_ipynb\n",
    "import class_ex\n",
    "\n",
    "calc = class_ex.Calc()\n",
    "calc.sum(1, 2)\n",
    "calc.subtraction(5, 1)\n",
    "calc.multipication(2, 3)\n",
    "calc.division(6, 2)"
   ]
  },
  {
   "cell_type": "code",
   "execution_count": 15,
   "id": "b1818896",
   "metadata": {},
   "outputs": [
    {
     "name": "stdout",
     "output_type": "stream",
     "text": [
      "1 + 2 - 3 * 4 + 5\n",
      "-4\n"
     ]
    }
   ],
   "source": [
    "#실습 #9\n",
    "\n",
    "prec_n = {\n",
    "    '*': 2,\n",
    "    '/': 2,\n",
    "    '+': 1,\n",
    "    '-': 1,\n",
    "}\n",
    " \n",
    "def conver_pre(tokens):\n",
    "    stack = []\n",
    "    result = []\n",
    "    for token in tokens:\n",
    "        if token not in '+-*/':\n",
    "            result.append(token)\n",
    "        elif stack and prec_n[token] <= prec_n[stack[-1]]:\n",
    "            while stack:\n",
    "                result.append(stack.pop())\n",
    "            stack.append(token)\n",
    "        else:\n",
    "            stack.append(token)\n",
    "    while stack:\n",
    "        result.append(stack.pop())\n",
    "    return result\n",
    "\n",
    "def Calculate(tokens):\n",
    "    stack = []\n",
    "    for token in tokens:\n",
    "        if token == '+':\n",
    "            stack.append(stack.pop()+stack.pop())\n",
    "        elif token == '-':\n",
    "            stack.append(-(stack.pop()-stack.pop()))\n",
    "        elif token == '*':\n",
    "            stack.append(stack.pop()*stack.pop())\n",
    "        elif token == '/':\n",
    "            rv = stack.pop()\n",
    "            stack.append(stack.pop()/rv)\n",
    "        else:\n",
    "            stack.append(int(token))\n",
    "    return stack.pop()\n",
    "\n",
    "userinput = input()\n",
    "tokens = userinput.split(' ')\n",
    "postfix_tokens = conver_pre(tokens)\n",
    "\n",
    "print(Calculate(postfix_tokens))"
   ]
  },
  {
   "cell_type": "code",
   "execution_count": null,
   "id": "5577e3b2",
   "metadata": {},
   "outputs": [],
   "source": []
  }
 ],
 "metadata": {
  "kernelspec": {
   "display_name": "Python 3",
   "language": "python",
   "name": "python3"
  },
  "language_info": {
   "codemirror_mode": {
    "name": "ipython",
    "version": 3
   },
   "file_extension": ".py",
   "mimetype": "text/x-python",
   "name": "python",
   "nbconvert_exporter": "python",
   "pygments_lexer": "ipython3",
   "version": "3.8.1"
  }
 },
 "nbformat": 4,
 "nbformat_minor": 5
}
