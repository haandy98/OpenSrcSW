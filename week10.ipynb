{
 "cells": [
  {
   "cell_type": "code",
   "execution_count": 5,
   "id": "d039d150",
   "metadata": {},
   "outputs": [
    {
     "name": "stdout",
     "output_type": "stream",
     "text": [
      "Numbers? \n",
      "15 4 6 29 42 2 5 9\n",
      "42\n"
     ]
    }
   ],
   "source": [
    "# 실습 #2\n",
    "\n",
    "print('Numbers? ')\n",
    "num_arr = input().split(' ')\n",
    "num_arr = list(map(int, num_arr))\n",
    "\n",
    "print(max(num_arr))"
   ]
  },
  {
   "cell_type": "code",
   "execution_count": 4,
   "id": "747b2246",
   "metadata": {},
   "outputs": [
    {
     "name": "stdout",
     "output_type": "stream",
     "text": [
      "1. 암호화\n",
      "2. 복호화\n",
      "1\n",
      "Input? \n",
      "abc def\n",
      "efg bcd \n",
      "1. 암호화\n",
      "2. 복호화\n",
      "2\n",
      "Input? \n",
      "efg bcd\n",
      "abc def \n",
      "1. 암호화\n",
      "2. 복호화\n",
      "q\n"
     ]
    }
   ],
   "source": [
    "# 실습 #3\n",
    "# 1 : 암호화 수행, 2 : 복호화를 수행, 그 외의 값 : 종료\n",
    "\n",
    "while 1 : \n",
    "    print('1. 암호화')\n",
    "    print('2. 복호화')\n",
    "    num = input()\n",
    "\n",
    "    if num == '1' :\n",
    "        print('Input? ')\n",
    "        word_arr = input().split(' ')\n",
    "\n",
    "        word_arr.reverse()\n",
    "\n",
    "        new_word_arr = []\n",
    "        for word in word_arr :\n",
    "            new_word = ''\n",
    "            for ch in word :\n",
    "                new_word = new_word + chr(ord(ch) + 1)\n",
    "            new_word_arr.append(new_word)\n",
    "\n",
    "        result = ''\n",
    "        for word in new_word_arr :\n",
    "            result += word + ' '\n",
    "        print(result)\n",
    "\n",
    "    elif num == '2' :\n",
    "        print('Input? ')\n",
    "        word_arr = input().split(' ')\n",
    "\n",
    "        new_word_arr = []\n",
    "        for word in word_arr :\n",
    "            new_word = ''\n",
    "            for ch in word :\n",
    "                new_word = new_word + chr(ord(ch) - 1)\n",
    "            new_word_arr.append(new_word)\n",
    "\n",
    "        new_word_arr.reverse()\n",
    "\n",
    "        result = ''\n",
    "        for word in new_word_arr :\n",
    "            result += word + ' '\n",
    "        print(result)\n",
    "    else :\n",
    "        break"
   ]
  },
  {
   "cell_type": "code",
   "execution_count": 3,
   "id": "626104a3",
   "metadata": {},
   "outputs": [
    {
     "name": "stdout",
     "output_type": "stream",
     "text": [
      "10명의 이름과 전화번호를 입력하시오.\n",
      "ex) \"andy 01234567890\"\n",
      "a 1\n",
      "b 2\n",
      "c 3\n",
      "d 4\n",
      "e 5\n",
      "f 6\n",
      "g 7\n",
      "h 8\n",
      "i 9\n",
      "j 10\n",
      "1. 이름으로 검색\n",
      "2. 전화번호로 검색\n",
      "3. \"이름 전화번호\" 재입력\n",
      "1\n",
      "Name? \n",
      "d\n",
      "4\n",
      "1. 이름으로 검색\n",
      "2. 전화번호로 검색\n",
      "3. \"이름 전화번호\" 재입력\n",
      "2\n",
      "Number? \n",
      "8\n",
      "h\n",
      "1. 이름으로 검색\n",
      "2. 전화번호로 검색\n",
      "3. \"이름 전화번호\" 재입력\n",
      "q\n"
     ]
    },
    {
     "ename": "SystemExit",
     "evalue": "",
     "output_type": "error",
     "traceback": [
      "An exception has occurred, use %tb to see the full traceback.\n",
      "\u001b[1;31mSystemExit\u001b[0m\n"
     ]
    }
   ],
   "source": [
    "# 실습 #4\n",
    "import sys\n",
    "\n",
    "while 1 :\n",
    "    dic = {}\n",
    "    print('10명의 이름과 전화번호를 입력하시오.')\n",
    "    print('ex) \"andy 01234567890\"')\n",
    "    for i in range(10) :\n",
    "        name_num = input().split(' ')\n",
    "        dic[name_num[0]] = name_num[1]\n",
    "\n",
    "    while 1 : \n",
    "        print('1. 이름으로 검색')\n",
    "        print('2. 전화번호로 검색')\n",
    "        print('3. \"이름 전화번호\" 재입력')\n",
    "\n",
    "        num = input()\n",
    "\n",
    "        if num == '1' :\n",
    "            print('Name? ')\n",
    "            name = input()\n",
    "            print(dic.get(name))\n",
    "\n",
    "        elif num == '2' :\n",
    "            reverse_dic = {val:key for key, val in dic.items()}\n",
    "            print('Number? ')\n",
    "            number = input()\n",
    "            print(reverse_dic.get(number))\n",
    "\n",
    "        elif num == '3' :\n",
    "            break\n",
    "            \n",
    "        else :\n",
    "            sys.exit()"
   ]
  }
 ],
 "metadata": {
  "kernelspec": {
   "display_name": "Python 3",
   "language": "python",
   "name": "python3"
  },
  "language_info": {
   "codemirror_mode": {
    "name": "ipython",
    "version": 3
   },
   "file_extension": ".py",
   "mimetype": "text/x-python",
   "name": "python",
   "nbconvert_exporter": "python",
   "pygments_lexer": "ipython3",
   "version": "3.8.1"
  }
 },
 "nbformat": 4,
 "nbformat_minor": 5
}
