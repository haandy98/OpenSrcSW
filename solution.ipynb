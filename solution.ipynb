{
 "cells": [
  {
   "cell_type": "code",
   "execution_count": 34,
   "id": "6d6f5068",
   "metadata": {},
   "outputs": [
    {
     "name": "stdout",
     "output_type": "stream",
     "text": [
      "(1,2)\n",
      "(3,4)\n",
      "(4,6)\n"
     ]
    }
   ],
   "source": [
    "class Point():\n",
    "    def __init__(self, a, b):\n",
    "        self.Pa = a\n",
    "        self.Pb = b\n",
    "    def __add__(self, other):\n",
    "        self.Pa = self.Pa + other.Pa\n",
    "        self.Pb = self.Pb + other.Pb\n",
    "    def show(self):\n",
    "        print('({:d},{:d})'.format(self.Pa, self.Pb))\n",
    "    \n",
    "a = Point(1,2)\n",
    "a.show()\n",
    "\n",
    "b = Point(3,4)\n",
    "b.show()\n",
    "\n",
    "a + b\n",
    "a.show()"
   ]
  },
  {
   "cell_type": "code",
   "execution_count": 31,
   "id": "d7e8e219",
   "metadata": {},
   "outputs": [
    {
     "name": "stdout",
     "output_type": "stream",
     "text": [
      "Max Week = 05/26 ~ 05/31\n"
     ]
    }
   ],
   "source": [
    "import csv\n",
    "import matplotlib.pyplot as plt\n",
    "\n",
    "f = open('seoul.csv', encoding='cp949')\n",
    "data = csv.reader(f)\n",
    "header = next(data)\n",
    "\n",
    "tempCross = 0\n",
    "max_temp_week = -999\n",
    "max_week_temp = []\n",
    "max_week = []\n",
    "count = 0\n",
    "\n",
    "for row in data:\n",
    "    if row[-1] != '' and row[-2] != '':\n",
    "        tempCross += (float(row[-1]) - float(row[-2]))\n",
    "        \n",
    "        max_week_temp.append(row)\n",
    "        \n",
    "        if count == 6:\n",
    "            if tempCross > max_temp_week:\n",
    "                max_temp_week = tempCross\n",
    "                max_week = []\n",
    "                for day in max_week_temp:\n",
    "                    max_week.append(day)\n",
    "            count = 0\n",
    "            max_week_temp = []\n",
    "        count = count + 1\n",
    "\n",
    "print('Max Week = {}/{} ~ {}/{}'.format(max_week[0][0].split('-')[1], max_week[0][0].split('-')[2], max_week[-1][0].split('-')[1], max_week[-1][0].split('-')[2]))"
   ]
  },
  {
   "cell_type": "code",
   "execution_count": null,
   "id": "30b5ada7",
   "metadata": {},
   "outputs": [],
   "source": [
    "import numpy as np\n",
    "\n",
    "a = [[1, 1, 0, 1, 0, 1],[1, 1, 1, 0, 1, 0],[1, 1, 0, 1, 0, 0]]\n",
    "b = [1, 1, 0, 0, 1, 0]\n",
    "\n",
    "np.dot(a, b)"
   ]
  }
 ],
 "metadata": {
  "kernelspec": {
   "display_name": "Python 3",
   "language": "python",
   "name": "python3"
  },
  "language_info": {
   "codemirror_mode": {
    "name": "ipython",
    "version": 3
   },
   "file_extension": ".py",
   "mimetype": "text/x-python",
   "name": "python",
   "nbconvert_exporter": "python",
   "pygments_lexer": "ipython3",
   "version": "3.8.8"
  }
 },
 "nbformat": 4,
 "nbformat_minor": 5
}
